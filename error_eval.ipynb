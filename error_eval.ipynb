{
 "cells": [
  {
   "cell_type": "code",
   "execution_count": 1,
   "metadata": {
    "collapsed": true
   },
   "outputs": [],
   "source": [
    "import cv2\n",
    "import numpy as np\n",
    "import os"
   ]
  },
  {
   "cell_type": "code",
   "execution_count": 2,
   "metadata": {
    "collapsed": true
   },
   "outputs": [],
   "source": [
    "output_path = '/Users/user/Desktop/image1_generation/latest_net_G_val/images/output/'\n",
    "target_path = '/Users/user/Desktop/image1_generation/latest_net_G_val/images/target/'\n",
    "save_path = '/Users/user/Desktop/image1_generation/latest_net_G_val/images/error_map/'\n",
    "dirs_out= os.listdir(output_path)\n",
    "dirs_tar= os.listdir(target_path)"
   ]
  },
  {
   "cell_type": "code",
   "execution_count": 3,
   "metadata": {
    "collapsed": true,
    "scrolled": true
   },
   "outputs": [],
   "source": [
    "def error_map(dirs_out,dirs_tar,output_path,target_path,save_path):\n",
    "    dirs_out.sort()\n",
    "    dirs_tar.sort()\n",
    "\n",
    "    for out_img_name,tar_img_name in zip(dirs_out,dirs_tar):\n",
    "        print \"processing :\",out_img_name\n",
    "        out_img = cv2.imread(output_path+out_img_name).astype(np.int8)\n",
    "        tar_img = cv2.imread(target_path+tar_img_name).astype(np.int8)\n",
    "\n",
    "        diff =map(abs,out_img - tar_img)\n",
    "        height,width,channel = tar_img.shape\n",
    "        nor_dif = np.zeros((height,width))\n",
    "\n",
    "        for h in range(len(diff)):\n",
    "            for w in range(len(diff[h])):\n",
    "                nor_dif[h][w] = np.sum(diff[h][w])\n",
    "        nor_max = nor_dif.max()\n",
    "        for h in range(len(diff)):\n",
    "            for w in range(len(diff[h])):\n",
    "                nor_dif[h][w] = 255*(1 - nor_dif[h][w]/nor_max)\n",
    "\n",
    "\n",
    "        cv2.imwrite(save_path+out_img_name,nor_dif)\n"
   ]
  },
  {
   "cell_type": "code",
   "execution_count": 4,
   "metadata": {},
   "outputs": [
    {
     "name": "stdout",
     "output_type": "stream",
     "text": [
      "['.DS_Store', 'Image1_0000.png', 'Image1_0010.png', 'Image1_0020.png', 'Image1_0030.png', 'Image1_0040.png', 'Image1_0050.png', 'Image1_0060.png', 'Image1_0080.png', 'Image1_0090.png', 'Image1_0100.png', 'Image1_0110.png', 'Image1_0120.png', 'Image1_0130.png', 'Image1_0140.png', 'Image1_0150.png', 'Image1_0160.png', 'Image1_0170.png']\n",
      "processing : Image1_0000.png\n",
      "processing : Image1_0010.png\n",
      "processing : Image1_0020.png\n",
      "processing : Image1_0030.png\n",
      "processing : Image1_0040.png\n",
      "processing : Image1_0050.png\n",
      "processing : Image1_0060.png\n",
      "processing : Image1_0080.png\n",
      "processing : Image1_0090.png\n",
      "processing : Image1_0100.png\n",
      "processing : Image1_0110.png\n",
      "processing : Image1_0120.png\n",
      "processing : Image1_0130.png\n",
      "processing : Image1_0140.png\n",
      "processing : Image1_0150.png\n",
      "processing : Image1_0160.png\n",
      "processing : Image1_0170.png\n"
     ]
    }
   ],
   "source": [
    "print dirs_out\n",
    "error_map(dirs_out[1:],dirs_tar[1:],output_path,target_path,save_path)"
   ]
  },
  {
   "cell_type": "code",
   "execution_count": null,
   "metadata": {
    "collapsed": true
   },
   "outputs": [],
   "source": []
  },
  {
   "cell_type": "code",
   "execution_count": null,
   "metadata": {},
   "outputs": [],
   "source": []
  },
  {
   "cell_type": "code",
   "execution_count": null,
   "metadata": {
    "collapsed": true
   },
   "outputs": [],
   "source": []
  },
  {
   "cell_type": "code",
   "execution_count": null,
   "metadata": {
    "collapsed": true
   },
   "outputs": [],
   "source": []
  },
  {
   "cell_type": "code",
   "execution_count": null,
   "metadata": {
    "collapsed": true
   },
   "outputs": [],
   "source": []
  },
  {
   "cell_type": "code",
   "execution_count": null,
   "metadata": {
    "collapsed": true
   },
   "outputs": [],
   "source": []
  }
 ],
 "metadata": {
  "kernelspec": {
   "display_name": "Python 2",
   "language": "python",
   "name": "python2"
  },
  "language_info": {
   "codemirror_mode": {
    "name": "ipython",
    "version": 2
   },
   "file_extension": ".py",
   "mimetype": "text/x-python",
   "name": "python",
   "nbconvert_exporter": "python",
   "pygments_lexer": "ipython2",
   "version": "2.7.13"
  }
 },
 "nbformat": 4,
 "nbformat_minor": 1
}
