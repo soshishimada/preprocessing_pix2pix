{
 "cells": [
  {
   "cell_type": "code",
   "execution_count": 140,
   "metadata": {
    "collapsed": false
   },
   "outputs": [],
   "source": [
    "import numpy as np\n",
    "import matplotlib.pyplot as plt\n",
    "def file_read(file_name):\n",
    "    f = open(file_name)\n",
    "    data = f.readlines()\n",
    "    f.close()\n",
    "    data = data[2:]\n",
    "    spl = lambda x:x.split()\n",
    "    data =  np.array([spl(content) for content in data])\n",
    "    #print data\n",
    "    translation = data[:,:3]\n",
    "    rotation = data[:,3:6]\n",
    "    combine = data[:,:6]\n",
    "    print combine\n",
    "    return np.array(translation,dtype=float),np.array(rotation,dtype=float),np.array(combine,dtype=float)"
   ]
  },
  {
   "cell_type": "code",
   "execution_count": null,
   "metadata": {
    "collapsed": true
   },
   "outputs": [],
   "source": []
  },
  {
   "cell_type": "code",
   "execution_count": 141,
   "metadata": {
    "collapsed": false
   },
   "outputs": [],
   "source": [
    "def get_min_dis(vector,f_index=51):\n",
    "    tmp =[]\n",
    "    mindis=[]\n",
    "    for i in range(f_index):\n",
    "        for j in range(f_index+1,len(vector)):\n",
    "            #print \"i : j |\",i,\":\",j\n",
    "            dist = np.linalg.norm(vector[i]-vector[j])\n",
    "            tmp.append(dist)\n",
    "            #print dist\n",
    "        mindis.append(min(tmp))\n",
    "    return mindis"
   ]
  },
  {
   "cell_type": "code",
   "execution_count": 142,
   "metadata": {
    "collapsed": false
   },
   "outputs": [
    {
     "name": "stdout",
     "output_type": "stream",
     "text": [
      "[['0.0162837' '-0.0156187' '1.46615' '0.0872665' '0.0393835' '0.0570924']\n",
      " ['0.0167763' '-0.0135789' '1.47172' '0.0872665' '0.0435137' '0.0528977']\n",
      " ['0.0178147' '-0.0149479' '1.46555' '0.0872665' '0.0504189' '0.0536162']\n",
      " ..., \n",
      " ['0.069446' '-0.0703769' '0.631785' '0.0805033' '0.172871' '0.174533']\n",
      " ['0.0635005' '-0.0705219' '0.625585' '0.0861233' '0.174533' '0.174533']\n",
      " ['0.0647965' '-0.0717525' '0.63348' '0.0841039' '0.174533' '0.174533']]\n",
      "[0.11804368401286873, 0.11804368401286873, 0.11770313361270374, 0.1171019877476467, 0.11312000814679068, 0.10998780342460705, 0.10673105010380061, 0.10413714235948671, 0.10287905689385958, 0.10263347286402229, 0.10263347286402229, 0.10255116639848617, 0.099727269779133113, 0.099727269779133113, 0.099727269779133113, 0.098064836832220337, 0.098064836832220337, 0.098064836832220337, 0.098064836832220337, 0.098064836832220337, 0.086838142350064138, 0.079532386516751777, 0.075338728592205487, 0.061856028726794299, 0.061856028726794299, 0.061856028726794299, 0.061856028726794299, 0.061856028726794299, 0.061856028726794299, 0.061856028726794299, 0.061856028726794299, 0.061856028726794299, 0.061856028726794299, 0.061856028726794299, 0.061856028726794299, 0.061856028726794299, 0.061856028726794299, 0.061856028726794299, 0.061856028726794299, 0.061856028726794299, 0.061856028726794299, 0.061856028726794299, 0.061856028726794299, 0.061856028726794299, 0.061856028726794299, 0.061856028726794299, 0.061856028726794299, 0.05623102417278223, 0.037075524367026984, 0.028909526630507106, 0.018896612206953847]\n"
     ]
    }
   ],
   "source": [
    "translation,rotation,combine = file_read('template_poses.txt')\n",
    "min_dis_translation = get_min_dis(translation)\n",
    "min_dis_rotation = get_min_dis(rotation)\n",
    "min_dis_combine = get_min_dis(combine)\n",
    "\n",
    "print min_dis_translation"
   ]
  },
  {
   "cell_type": "code",
   "execution_count": 143,
   "metadata": {
    "collapsed": false
   },
   "outputs": [],
   "source": [
    "plt.plot(min_dis_translation,'g')#t, t, 'r--', t, t**2, 'bs', t, t**3, 'g^'\n",
    "plt.plot(min_dis_rotation, 'b')\n",
    "plt.plot(min_dis_combine,\"r\")\n",
    "plt.ylabel('some numbers')\n",
    "plt.show()"
   ]
  },
  {
   "cell_type": "code",
   "execution_count": null,
   "metadata": {
    "collapsed": true
   },
   "outputs": [],
   "source": []
  },
  {
   "cell_type": "code",
   "execution_count": null,
   "metadata": {
    "collapsed": true
   },
   "outputs": [],
   "source": []
  }
 ],
 "metadata": {
  "kernelspec": {
   "display_name": "Python 2",
   "language": "python",
   "name": "python2"
  },
  "language_info": {
   "codemirror_mode": {
    "name": "ipython",
    "version": 2
   },
   "file_extension": ".py",
   "mimetype": "text/x-python",
   "name": "python",
   "nbconvert_exporter": "python",
   "pygments_lexer": "ipython2",
   "version": "2.7.6"
  }
 },
 "nbformat": 4,
 "nbformat_minor": 0
}
