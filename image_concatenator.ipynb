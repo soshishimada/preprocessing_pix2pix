{
 "cells": [
  {
   "cell_type": "code",
   "execution_count": 1,
   "metadata": {
    "collapsed": false
   },
   "outputs": [],
   "source": [
    "import sys\n",
    "from PIL import Image\n",
    "import cv\n",
    "import os"
   ]
  },
  {
   "cell_type": "code",
   "execution_count": 2,
   "metadata": {
    "collapsed": false
   },
   "outputs": [],
   "source": [
    "left_path = '/home/shimada/Desktop/project_samba/samba/original_images/masked_edges_inverted/'\n",
    "right_path = '/home/shimada/Desktop/project_samba/samba/original_images/original_cropped/'\n",
    "save_path = '/home/shimada/Desktop/project_samba/samba/original_images/images_concat/'\n",
    "\n",
    "dirs_left = os.listdir( left_path )\n",
    "dirs_right = os.listdir( right_path )"
   ]
  },
  {
   "cell_type": "code",
   "execution_count": null,
   "metadata": {
    "collapsed": false
   },
   "outputs": [],
   "source": [
    "images = map(Image.open, ['./samba//image_resized/masked_edges_inverted/Image1_0000 .jpg','./samba/image_resized/original_cropped/Image1_0000 .jpg'])\n",
    "widths, heights = zip(*(i.size for i in images))\n",
    "\n",
    "total_width = sum(widths)\n",
    "max_height = max(heights)\n",
    "\n",
    "new_im = Image.new('RGB', (total_width, max_height))\n",
    "\n",
    "def concatenate(left_names,right_names,left_path,right_path,save_path):\n",
    "    left_names.sort()\n",
    "    right_names.sort()\n",
    "    for left_name,right_name in zip(left_names,right_names):\n",
    "        images = map(Image.open,[left_path+left_name,right_path+right_name])\n",
    "\n",
    "        widths, heights = zip(*(i.size for i in images))\n",
    "        total_width = sum(widths)\n",
    "        max_height = max(heights)\n",
    "        new_im = Image.new('RGB', (total_width, max_height))\n",
    "        x_offset = 0\n",
    "        for im in images:\n",
    "            new_im.paste(im, (x_offset,0))\n",
    "            x_offset += im.size[0]\n",
    "        new_im.save(save_path+right_name)\n",
    "\n",
    "\n",
    "        \n",
    "        \n",
    "        \n",
    "        "
   ]
  },
  {
   "cell_type": "code",
   "execution_count": null,
   "metadata": {
    "collapsed": true
   },
   "outputs": [],
   "source": [
    "concatenate(dirs_left,dirs_right,left_path,right_path,save_path)"
   ]
  }
 ],
 "metadata": {
  "kernelspec": {
   "display_name": "Python 2",
   "language": "python",
   "name": "python2"
  },
  "language_info": {
   "codemirror_mode": {
    "name": "ipython",
    "version": 2
   },
   "file_extension": ".py",
   "mimetype": "text/x-python",
   "name": "python",
   "nbconvert_exporter": "python",
   "pygments_lexer": "ipython2",
   "version": "2.7.6"
  }
 },
 "nbformat": 4,
 "nbformat_minor": 0
}
