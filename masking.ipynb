{
 "cells": [
  {
   "cell_type": "code",
   "execution_count": 1,
   "metadata": {
    "collapsed": true
   },
   "outputs": [],
   "source": [
    "import cv2\n",
    "import numpy as np\n",
    "import os"
   ]
  },
  {
   "cell_type": "code",
   "execution_count": 2,
   "metadata": {
    "collapsed": true
   },
   "outputs": [],
   "source": [
    "mask_path = '/home/shimada/Desktop/project_samba/samba/original_images/silhouettes_bw/'\n",
    "edge_image_path = '/home/shimada/Desktop/project_samba/samba/original_images/canny_image/'\n",
    "save_path = '/home/shimada/Desktop/project_samba/samba/original_images/masked_edges/'\n",
    "\n",
    "dirs_mask = os.listdir( mask_path )\n",
    "dirs_edge = os.listdir( edge_image_path )"
   ]
  },
  {
   "cell_type": "code",
   "execution_count": 3,
   "metadata": {
    "collapsed": false
   },
   "outputs": [],
   "source": [
    "def masking(mask_names,edge_names,mask_path,edge_path,save_path):\n",
    "    mask_names.sort()\n",
    "    edge_names.sort()\n",
    "    for mask_name,edge_name in zip(mask_names,edge_names):\n",
    "\n",
    "        mask = cv2.imread(mask_path+mask_name,0)\n",
    "        edge = cv2.imread(edge_path+edge_name,0)\n",
    "        width,height = np.array(edge).shape\n",
    "        after_mask = np.zeros((width,height))\n",
    "        for i in range(len(mask)):\n",
    "            for j in range(len(mask[i])):\n",
    "                if mask[i][j] >= 10:\n",
    "                    after_mask[i][j] = edge[i][j]\n",
    "        cv2.imwrite(save_path+edge_name,after_mask)\n",
    "\n",
    "    return"
   ]
  },
  {
   "cell_type": "code",
   "execution_count": 4,
   "metadata": {
    "collapsed": false
   },
   "outputs": [],
   "source": [
    "masking(dirs_mask,dirs_edge,mask_path,edge_image_path,save_path)"
   ]
  }
 ],
 "metadata": {
  "kernelspec": {
   "display_name": "Python 2",
   "language": "python",
   "name": "python2"
  },
  "language_info": {
   "codemirror_mode": {
    "name": "ipython",
    "version": 2
   },
   "file_extension": ".py",
   "mimetype": "text/x-python",
   "name": "python",
   "nbconvert_exporter": "python",
   "pygments_lexer": "ipython2",
   "version": "2.7.6"
  }
 },
 "nbformat": 4,
 "nbformat_minor": 0
}
