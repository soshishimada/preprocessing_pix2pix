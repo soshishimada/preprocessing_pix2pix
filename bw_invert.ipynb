{
 "cells": [
  {
   "cell_type": "code",
   "execution_count": 1,
   "metadata": {
    "collapsed": true
   },
   "outputs": [],
   "source": [
    "import cv2\n",
    "import numpy as np\n",
    "import os"
   ]
  },
  {
   "cell_type": "code",
   "execution_count": 2,
   "metadata": {
    "collapsed": true
   },
   "outputs": [],
   "source": [
    "image_path = '/home/shimada/Desktop/project_samba/samba/original_images/masked_edges/'\n",
    "save_path = '/home/shimada/Desktop/project_samba/samba/original_images/masked_edges_inverted/'\n",
    "dirs = os.listdir( image_path )"
   ]
  },
  {
   "cell_type": "code",
   "execution_count": null,
   "metadata": {
    "collapsed": true
   },
   "outputs": [],
   "source": [
    "def invert(image_path,save_path):\n",
    "    for image in dirs:\n",
    "        if os.path.isfile(image_path+image):\n",
    "            img = cv2.imread(image_path+image,0)\n",
    "            for i in range(len(img)):\n",
    "                for j in range(len(img[i])):\n",
    "                    if img[i][j] <= 128:\n",
    "                        img[i][j] = 255\n",
    "                    else:\n",
    "                        img[i][j] = 0\n",
    "            \n",
    "            cv2.imwrite(save_path+image,img)"
   ]
  },
  {
   "cell_type": "code",
   "execution_count": null,
   "metadata": {
    "collapsed": true
   },
   "outputs": [],
   "source": [
    "invert(image_path,save_path)"
   ]
  },
  {
   "cell_type": "code",
   "execution_count": null,
   "metadata": {
    "collapsed": true
   },
   "outputs": [],
   "source": []
  }
 ],
 "metadata": {
  "kernelspec": {
   "display_name": "Python 2",
   "language": "python",
   "name": "python2"
  },
  "language_info": {
   "codemirror_mode": {
    "name": "ipython",
    "version": 2
   },
   "file_extension": ".py",
   "mimetype": "text/x-python",
   "name": "python",
   "nbconvert_exporter": "python",
   "pygments_lexer": "ipython2",
   "version": "2.7.6"
  }
 },
 "nbformat": 4,
 "nbformat_minor": 0
}
