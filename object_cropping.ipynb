{
 "cells": [
  {
   "cell_type": "code",
   "execution_count": 2,
   "metadata": {
    "collapsed": true
   },
   "outputs": [],
   "source": [
    "import cv2\n",
    "import numpy as np\n",
    "import os"
   ]
  },
  {
   "cell_type": "code",
   "execution_count": 8,
   "metadata": {
    "collapsed": false
   },
   "outputs": [],
   "source": [
    "mask_path = '/home/shimada/Desktop/project_samba/samba/original_images/tmp_mask//'\n",
    "image_path = '/home/shimada/Desktop/project_samba/samba/original_images/tmp/'\n",
    "save_path = '/home/shimada/Desktop/project_samba/samba/original_images/original_cropped//'\n",
    "\n",
    "dirs_mask = os.listdir( mask_path )\n",
    "dirs_image = os.listdir( image_path )"
   ]
  },
  {
   "cell_type": "code",
   "execution_count": 9,
   "metadata": {
    "collapsed": false
   },
   "outputs": [],
   "source": [
    "def crop(mask_names,image_names,mask_path,image_path,save_path):\n",
    "    mask_names.sort()\n",
    "    image_names.sort()\n",
    "    for mask_name,image_name in zip(mask_names,image_names):\n",
    "\n",
    "        mask = cv2.imread(mask_path+mask_name)\n",
    "        image = cv2.imread(image_path+image_name)\n",
    "        width,height,channel = np.array(image).shape\n",
    "        after_mask = np.zeros((width,height,channel))\n",
    "        for i in range(len(mask)):\n",
    "            for j in range(len(mask[i])):\n",
    "\n",
    "                if mask[i][j][0] < 10:\n",
    "                    #print \"here\",after_mask[i][j]\n",
    "\n",
    "                    after_mask[i][j] = np.array([255,255,255])\n",
    "                else:\n",
    "                    #rint mask[i][j]\n",
    "                    after_mask[i][j] = image[i][j]\n",
    "        \n",
    "        cv2.imwrite(save_path+image_name,after_mask)\n",
    "\n",
    "    return"
   ]
  },
  {
   "cell_type": "code",
   "execution_count": 10,
   "metadata": {
    "collapsed": false
   },
   "outputs": [],
   "source": [
    "crop(dirs_mask,dirs_image,mask_path,image_path,save_path)"
   ]
  },
  {
   "cell_type": "code",
   "execution_count": null,
   "metadata": {
    "collapsed": true
   },
   "outputs": [],
   "source": []
  },
  {
   "cell_type": "code",
   "execution_count": null,
   "metadata": {
    "collapsed": true
   },
   "outputs": [],
   "source": []
  },
  {
   "cell_type": "code",
   "execution_count": null,
   "metadata": {
    "collapsed": true
   },
   "outputs": [],
   "source": []
  },
  {
   "cell_type": "code",
   "execution_count": null,
   "metadata": {
    "collapsed": true
   },
   "outputs": [],
   "source": []
  }
 ],
 "metadata": {
  "kernelspec": {
   "display_name": "Python 2",
   "language": "python",
   "name": "python2"
  },
  "language_info": {
   "codemirror_mode": {
    "name": "ipython",
    "version": 2
   },
   "file_extension": ".py",
   "mimetype": "text/x-python",
   "name": "python",
   "nbconvert_exporter": "python",
   "pygments_lexer": "ipython2",
   "version": "2.7.6"
  }
 },
 "nbformat": 4,
 "nbformat_minor": 0
}
