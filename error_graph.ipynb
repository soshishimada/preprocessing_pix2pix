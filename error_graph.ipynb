{
 "cells": [
  {
   "cell_type": "code",
   "execution_count": 1,
   "metadata": {},
   "outputs": [],
   "source": [
    "import cv2\n",
    "import numpy as np\n",
    "import os\n",
    "import numpy as np\n",
    "import matplotlib.pyplot as plt\n"
   ]
  },
  {
   "cell_type": "code",
   "execution_count": 2,
   "metadata": {
    "collapsed": true
   },
   "outputs": [],
   "source": [
    "output_path = '/Users/user/Desktop/image1_generation/latest_net_G_val/images/output/'\n",
    "target_path = '/Users/user/Desktop/image1_generation/latest_net_G_val/images/target/'\n",
    "#save_path = '/Users/user/Desktop/image1_generation/latest_net_G_val/images/save'\n",
    "dirs_out= os.listdir(output_path)\n",
    "dirs_tar= os.listdir(target_path)"
   ]
  },
  {
   "cell_type": "code",
   "execution_count": 3,
   "metadata": {},
   "outputs": [],
   "source": [
    "def error_graph(dirs_out,dirs_tar,output_path,target_path):\n",
    "    dirs_out.sort()\n",
    "    dirs_tar.sort()\n",
    "    x = np.arange(0,len(dirs_out),1)\n",
    "    y = []\n",
    "    for out_img_name,tar_img_name in zip(dirs_out,dirs_tar):\n",
    "        print \"processing :\",output_path,out_img_name\n",
    "        out_img = cv2.imread(output_path+out_img_name).astype(np.int8)\n",
    "        tar_img = cv2.imread(target_path+tar_img_name).astype(np.int8)\n",
    "\n",
    "        diff = map(abs,out_img - tar_img)\n",
    "        height,width,channel = tar_img.shape\n",
    "        nor_dif = np.zeros((height,width))\n",
    "        for h in range(len(diff)):\n",
    "            for w in range(len(diff[h])):\n",
    "                nor_dif[h][w] = np.sum(diff[h][w])\n",
    "\n",
    "        nor_max = nor_dif.max()\n",
    "        for h in range(len(diff)):\n",
    "            for w in range(len(diff[h])):\n",
    "                nor_dif[h][w] = 255*(1 - nor_dif[h][w]/nor_max)\n",
    "        y.append(float(sum(map(sum, nor_dif))))\n",
    "    \n",
    "    print y\n",
    "    error_max = max(y)\n",
    "    y = map(lambda x: x/error_max, y)\n",
    "    \n",
    "    my_xticks = dirs_out\n",
    "    plt.xticks(x, my_xticks)\n",
    "    plt.plot(x, y)\n",
    "    plt.tick_params(rotation = 90.0)\n",
    "    plt.show()"
   ]
  },
  {
   "cell_type": "code",
   "execution_count": 4,
   "metadata": {},
   "outputs": [
    {
     "name": "stdout",
     "output_type": "stream",
     "text": [
      "processing : /Users/user/Desktop/image1_generation/latest_net_G_val/images/output/ Image1_0000.png\n",
      "processing : /Users/user/Desktop/image1_generation/latest_net_G_val/images/output/ Image1_0010.png\n",
      "processing : /Users/user/Desktop/image1_generation/latest_net_G_val/images/output/ Image1_0020.png\n",
      "processing : /Users/user/Desktop/image1_generation/latest_net_G_val/images/output/ Image1_0030.png\n",
      "processing : /Users/user/Desktop/image1_generation/latest_net_G_val/images/output/ Image1_0040.png\n",
      "processing : /Users/user/Desktop/image1_generation/latest_net_G_val/images/output/ Image1_0050.png\n",
      "processing : /Users/user/Desktop/image1_generation/latest_net_G_val/images/output/ Image1_0060.png\n",
      "processing : /Users/user/Desktop/image1_generation/latest_net_G_val/images/output/ Image1_0080.png\n",
      "processing : /Users/user/Desktop/image1_generation/latest_net_G_val/images/output/ Image1_0090.png\n",
      "processing : /Users/user/Desktop/image1_generation/latest_net_G_val/images/output/ Image1_0100.png\n",
      "processing : /Users/user/Desktop/image1_generation/latest_net_G_val/images/output/ Image1_0110.png\n",
      "processing : /Users/user/Desktop/image1_generation/latest_net_G_val/images/output/ Image1_0120.png\n",
      "processing : /Users/user/Desktop/image1_generation/latest_net_G_val/images/output/ Image1_0130.png\n",
      "processing : /Users/user/Desktop/image1_generation/latest_net_G_val/images/output/ Image1_0140.png\n",
      "processing : /Users/user/Desktop/image1_generation/latest_net_G_val/images/output/ Image1_0150.png\n",
      "processing : /Users/user/Desktop/image1_generation/latest_net_G_val/images/output/ Image1_0160.png\n",
      "processing : /Users/user/Desktop/image1_generation/latest_net_G_val/images/output/ Image1_0170.png\n",
      "[265925495.78803977, 265931494.79674563, 265866456.06382748, 265794092.20000154, 265483667.54642087, 265484521.89007807, 265300461.23015636, 265422523.39141887, 265494862.7393596, 265177403.4920608, 265548756.127323, 265403827.06116784, 265817889.7637789, 266028083.86363634, 266040086.21983707, 266040181.34510502, 266063549.36169928]\n"
     ]
    },
    {
     "data": {
      "image/png": "[encoded data removed]",
      "text/plain": [
       "<matplotlib.figure.Figure at 0x113fa4c10>"
      ]
     },
     "metadata": {},
     "output_type": "display_data"
    }
   ],
   "source": [
    "error_graph(dirs_out[1:],dirs_tar[1:],output_path,target_path)"
   ]
  },
  {
   "cell_type": "code",
   "execution_count": null,
   "metadata": {},
   "outputs": [],
   "source": []
  },
  {
   "cell_type": "code",
   "execution_count": null,
   "metadata": {
    "collapsed": true
   },
   "outputs": [],
   "source": []
  }
 ],
 "metadata": {
  "kernelspec": {
   "display_name": "Python 2",
   "language": "python",
   "name": "python2"
  },
  "language_info": {
   "codemirror_mode": {
    "name": "ipython",
    "version": 2
   },
   "file_extension": ".py",
   "mimetype": "text/x-python",
   "name": "python",
   "nbconvert_exporter": "python",
   "pygments_lexer": "ipython2",
   "version": "2.7.13"
  }
 },
 "nbformat": 4,
 "nbformat_minor": 2
}
